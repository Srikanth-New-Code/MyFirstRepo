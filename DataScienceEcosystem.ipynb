{
  "metadata": {
    "kernelspec": {
      "name": "python",
      "display_name": "Python (Pyodide)",
      "language": "python"
    },
    "language_info": {
      "codemirror_mode": {
        "name": "python",
        "version": 3
      },
      "file_extension": ".py",
      "mimetype": "text/x-python",
      "name": "python",
      "nbconvert_exporter": "python",
      "pygments_lexer": "ipython3",
      "version": "3.8"
    }
  },
  "nbformat_minor": 5,
  "nbformat": 4,
  "cells": [
    {
      "id": "8a56aabe-50a1-4ff3-b3ce-ff0d15ba4726",
      "cell_type": "markdown",
      "source": "# Data Science Tools and Ecosystem",
      "metadata": {}
    },
    {
      "id": "5beb9d4c-cfb7-4c9f-b92e-440b28c6f179",
      "cell_type": "markdown",
      "source": "**Introduction:**\n\nIn this notebook, Data Science Tools and Ecosystem are summarized.",
      "metadata": {}
    },
    {
      "id": "43b64a43-76bc-4dc4-8a8f-a1a827f26015",
      "cell_type": "markdown",
      "source": "**Objectives:**\n- List popular languages for Data Science\n- List commonly used libraries for Data Science\n- List few development environment open-source tools for Data Science\n- Convert minutes to hours using Python",
      "metadata": {}
    },
    {
      "id": "2b7d990a-c5ec-46b7-ab38-2576e3d93021",
      "cell_type": "markdown",
      "source": "**Some of the popular languages that Data Scientists use are:**\n1. Python\n2. R\n3. Julia",
      "metadata": {}
    },
    {
      "id": "4846116e-67b8-4bf5-911d-af9efd431533",
      "cell_type": "markdown",
      "source": "**Some of the commonly used libraries used by Data Scientists include:**\n1. Pandas\n2. Numpy\n3. matplotlib",
      "metadata": {}
    },
    {
      "id": "7c7e99af-c286-46b3-9e2a-8e0a8b47de65",
      "cell_type": "markdown",
      "source": "| Data Science Tools |\n|--------------------|\n|Jupyter Notebook|\n|RStudio|\n|Spyder|",
      "metadata": {}
    },
    {
      "id": "b6f64771-9d68-4a28-bfd7-1e1a856d81b4",
      "cell_type": "markdown",
      "source": "### Below are a few examples of evaluating arithmetic expressions in Python",
      "metadata": {}
    },
    {
      "id": "35faae89-9d0f-4358-a433-3f93026fb4fa",
      "cell_type": "code",
      "source": "# This a simple arithmetic expression to mutiply then add integers\n(3*4)+5",
      "metadata": {
        "trusted": true
      },
      "outputs": [
        {
          "execution_count": 2,
          "output_type": "execute_result",
          "data": {
            "text/plain": "17"
          },
          "metadata": {}
        }
      ],
      "execution_count": 2
    },
    {
      "id": "3c21fa13-f31c-44fd-aed5-fb869472f0ff",
      "cell_type": "code",
      "source": "# This will convert 200 minutes to hours by diving by 60\nminutes = 200\nhours = minutes/60\nhours",
      "metadata": {
        "trusted": true
      },
      "outputs": [
        {
          "execution_count": 7,
          "output_type": "execute_result",
          "data": {
            "text/plain": "3.3333333333333335"
          },
          "metadata": {}
        }
      ],
      "execution_count": 7
    },
    {
      "id": "fc0eb159-a4cd-4bb3-a271-b717691a336d",
      "cell_type": "markdown",
      "source": "## Author\nKavali Srikanth",
      "metadata": {}
    },
    {
      "id": "2e7185e0-a396-46c7-a8c1-ae071a50bda1",
      "cell_type": "code",
      "source": "",
      "metadata": {
        "trusted": true
      },
      "outputs": [],
      "execution_count": null
    }
  ]
}